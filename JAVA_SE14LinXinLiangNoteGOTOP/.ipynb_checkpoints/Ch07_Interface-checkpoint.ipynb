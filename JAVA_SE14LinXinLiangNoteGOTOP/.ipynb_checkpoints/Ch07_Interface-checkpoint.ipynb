{
 "cells": [
  {
   "cell_type": "markdown",
   "metadata": {},
   "source": [
    "### 7-2 Ocean World "
   ]
  },
  {
   "cell_type": "code",
   "execution_count": null,
   "metadata": {},
   "outputs": [],
   "source": [
    "// Swimmer.java\n",
    "public interface Swimmer {\n",
    "    public abstract void swim();\n",
    "}"
   ]
  },
  {
   "cell_type": "code",
   "execution_count": null,
   "metadata": {},
   "outputs": [],
   "source": [
    "// Fish.java\n",
    "public abstract class Fish implements Swimmer {\n",
    "    protected String name;\n",
    "    public Fish(String name) {\n",
    "        this.name = name;\n",
    "    }\n",
    "    public String getName() {\n",
    "        return name;\n",
    "    }\n",
    "    @Override\n",
    "    public abstract void swim();\n",
    "}"
   ]
  },
  {
   "cell_type": "code",
   "execution_count": null,
   "metadata": {},
   "outputs": [],
   "source": [
    "// Human.java\n",
    "public class Human implements Swimmer {\n",
    "    private String name;\n",
    "    public Human(String name) {\n",
    "        this.name = name;\n",
    "    } \n",
    "    public String getName() {\n",
    "        return name;\n",
    "    }\n",
    "    \n",
    "    @Override\n",
    "    public void swim() {\n",
    "        System.out.printf(\"人類 %s 游泳%n\", name);\n",
    "    }\n",
    "}"
   ]
  },
  {
   "cell_type": "code",
   "execution_count": null,
   "metadata": {},
   "outputs": [],
   "source": [
    "// Submarine.java\n",
    "public class Submarine implements Swimmer {\n",
    "    private String name;\n",
    "    \n",
    "    public Submarine(String name) {\n",
    "        this.name = name;\n",
    "    }\n",
    "    \n",
    "    public String getName() {\n",
    "        return name;\n",
    "    }\n",
    "    \n",
    "    @Override\n",
    "    public void swim() {\n",
    "        System.out.printf(\"潛水艇 %s 潛行%n\", name);\n",
    "    }\n",
    "}"
   ]
  },
  {
   "cell_type": "code",
   "execution_count": null,
   "metadata": {},
   "outputs": [],
   "source": [
    "// Piranha.java 美人魚\n",
    "public class Piranha extends Fish {\n",
    "   public Piranha(String name) {\n",
    "       super(name);\n",
    "   }\n",
    "   \n",
    "    @Override\n",
    "    public void swim() {\n",
    "        System.out.printf(\"食人魚 %s 游泳%n\", name);\n",
    "    }    \n",
    "}\n",
    "\n",
    "\n",
    "// Shark.java\n",
    "public class Shark extends Fish {\n",
    "   public Shark(String name) {\n",
    "       super(name);\n",
    "   }\n",
    "   \n",
    "    @Override\n",
    "    public void swim() {\n",
    "        System.out.printf(\"鯊魚 %s 游泳%n\", name);\n",
    "    }\n",
    "}\n",
    "\n",
    "\n",
    "// Anemonefish.java 小丑魚\n",
    "public class Anemonefish extends Fish {\n",
    "   public Anemonefish(String name) {\n",
    "       super(name);\n",
    "   }\n",
    "   \n",
    "    @Override\n",
    "    public void swim() {\n",
    "        System.out.printf(\"小丑魚 %s 游泳%n\", name);\n",
    "    }\n",
    "}"
   ]
  },
  {
   "cell_type": "code",
   "execution_count": null,
   "metadata": {},
   "outputs": [],
   "source": [
    "/* Ocean.java => 若種類多了水母、海蛇、海星 etc.呢？每個種類overload一個方法出來嗎？ \n",
    "    => 不需要 => 大家都會游泳 => 都有Swimmer的行為 */\n",
    "public class Ocean {\n",
    "    public static void main(String[] args) {\n",
    "        doSwim(new Anemonefish(\"尼莫\"));\n",
    "        doSwim(new Shark(\"蘭尼\"));\n",
    "        doSwim(new Human(\"賈斯汀\"));\n",
    "        doSwim(new Submarine(\"黃色一號\"));\n",
    "    }\n",
    "\n",
    "    static void doSwim(Swimmer swimmer) {\n",
    "        swimmer.swim();\n",
    "    }\n",
    "}"
   ]
  },
  {
   "cell_type": "code",
   "execution_count": null,
   "metadata": {},
   "outputs": [],
   "source": []
  }
 ],
 "metadata": {
  "kernelspec": {
   "display_name": "Java",
   "language": "java",
   "name": "java"
  },
  "language_info": {
   "codemirror_mode": "java",
   "file_extension": ".jshell",
   "mimetype": "text/x-java-source",
   "name": "Java",
   "pygments_lexer": "java",
   "version": "17.0.2+8-LTS-86"
  }
 },
 "nbformat": 4,
 "nbformat_minor": 4
}
