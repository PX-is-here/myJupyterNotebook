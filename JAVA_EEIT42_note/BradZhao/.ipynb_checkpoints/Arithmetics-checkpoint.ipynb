{
 "cells": [
  {
   "cell_type": "code",
   "execution_count": 2,
   "metadata": {},
   "outputs": [
    {
     "name": "stdout",
     "output_type": "stream",
     "text": [
      "10\n",
      "[Z@5f66b6e2\n",
      "false\n",
      "false\n",
      "false\n"
     ]
    }
   ],
   "source": [
    "// ArrayTest\n",
    "/*\n",
    " * JAVA \n",
    " * \t初始化 -> 長度固定\n",
    " * \t宣告 -> 型別固定\n",
    " * \t電腦 只有線型概念\n",
    " * \tArray IS NOT Matrix\n",
    "*/\n",
    "\n",
    "int a = 10;\n",
    "boolean[] ary = new boolean[3]; // 元素個數, 範圍：[+int]，boolean 初始值=false\n",
    "System.out.println(a);\n",
    "System.out.println(ary);\n",
    "System.out.println(ary[0]);\n",
    "System.out.println(ary[1]);\n",
    "System.out.println(ary[2]);"
   ]
  },
  {
   "cell_type": "code",
   "execution_count": 1,
   "metadata": {},
   "outputs": [
    {
     "name": "stdout",
     "output_type": "stream",
     "text": [
      "10\n",
      "0\n",
      "0\n",
      "0\n"
     ]
    },
    {
     "ename": "CompilationException",
     "evalue": "",
     "output_type": "error",
     "traceback": [
      "\u001b[1m\u001b[30m|   \u001b[1m\u001b[30mSystem.out.println(ary[\u001b[0m\u001b[1m\u001b[30m\u001b[41m\u001b[0m\u001b[1m\u001b[30m12345678901]);\u001b[0m",
      "\u001b[1m\u001b[31minteger number too large\u001b[0m",
      ""
     ]
    }
   ],
   "source": [
    "int a;\n",
    "int[] ary;\n",
    "a = 10;\n",
    "ary = new int[3]; // JAVA: new -> 物件, new 對 int[3] 做初始化的動作\n",
    "System.out.println(a);\n",
    "System.out.println(ary[0]);\n",
    "System.out.println(ary[1]);\n",
    "System.out.println(ary[2]);\n",
    "System.out.println(ary[12345678901]);   // 不可以超過 10位數"
   ]
  },
  {
   "cell_type": "code",
   "execution_count": 2,
   "metadata": {},
   "outputs": [
    {
     "name": "stdout",
     "output_type": "stream",
     "text": [
      "10\n",
      "[D@39bbb0a9\n",
      "0.0\n",
      "0.0\n",
      "0.0\n"
     ]
    }
   ],
   "source": [
    "int a = 10;\n",
    "double[] ary = new double[3];\n",
    "System.out.println(a);\n",
    "System.out.println(ary);\n",
    "System.out.println(ary[0]);\n",
    "System.out.println(ary[1]);\n",
    "System.out.println(ary[2]);"
   ]
  },
  {
   "cell_type": "code",
   "execution_count": 8,
   "metadata": {},
   "outputs": [
    {
     "name": "stdout",
     "output_type": "stream",
     "text": [
      "1 appear 12 times\n",
      "2 appear 20 times\n",
      "3 appear 11 times\n",
      "4 appear 23 times\n",
      "5 appear 19 times\n",
      "6 appear 15 times\n"
     ]
    },
    {
     "data": {
      "text/plain": [
       "java.io.PrintStream@7d2fc238"
      ]
     },
     "execution_count": 8,
     "metadata": {},
     "output_type": "execute_result"
    }
   ],
   "source": [
    "//dice switch\n",
    "int p1, p2, p3, p4, p5, p6;\n",
    "p1 = p2 = p3 = p4 = p5 = p6 = 0;\n",
    "for (int i = 0; i < 100; i++) {\n",
    "    int point = (int)(java.lang.Math.random()*6) + 1;    // print out 1 ~ 6\n",
    "    switch(point) {\n",
    "        case 1: p1++; break;\n",
    "        case 2: p2++; break;\n",
    "        case 3: p3++; break;\n",
    "        case 4: p4++; break;\n",
    "        case 5: p5++; break;\n",
    "        case 6: p6++; break;\n",
    "        default: System.out.println(\"debug: \" + point);\n",
    "    }\n",
    "}\n",
    "System.out.printf(\"%d appear %d times\\n\", 1, p1);\n",
    "System.out.printf(\"%d appear %d times\\n\", 2, p2);\n",
    "System.out.printf(\"%d appear %d times\\n\", 3, p3);\n",
    "System.out.printf(\"%d appear %d times\\n\", 4, p4);\n",
    "System.out.printf(\"%d appear %d times\\n\", 5, p5);\n",
    "System.out.printf(\"%d appear %d times\\n\", 6, p6);"
   ]
  },
  {
   "cell_type": "code",
   "execution_count": 26,
   "metadata": {},
   "outputs": [
    {
     "name": "stdout",
     "output_type": "stream",
     "text": [
      "ms: 45\n"
     ]
    }
   ],
   "source": [
    "long start = System.currentTimeMillis();\n",
    "int[] poker = new int[52];\n",
    "for (int i = 0; i < poker.length; i++) { // 列出所有poker cards 有幾張\n",
    "    // poker[i] = (int)(Math.random()*52);  // 不一定要 *52 \"+1\"，因為 poker card 不會用到\n",
    "    int tmp = (int) (Math.random()*52);\n",
    "\n",
    "    // 檢查機制\n",
    "    boolean isRepeat = false;\n",
    "    for (int j = 0; j < i; j++) {\n",
    "        if(tmp == poker[j]) {\n",
    "            isRepeat = true;\n",
    "            break;\n",
    "        }\n",
    "    }\n",
    "\n",
    "    // isRepeat => false/true\n",
    "    if(!isRepeat) {\n",
    "        poker[i] = tmp;\n",
    "    } else {\n",
    "        i--;\n",
    "    }\n",
    "\n",
    "    //poker[i] = tmp;\n",
    "    //System.out.println(poker[i]); // 有機率讓 值 重複\n",
    "}\n",
    "\n",
    "System.out.println(\"ms: \" + (System.currentTimeMillis() - start));\n",
    "\n",
    "// // for-each test\n",
    "// for(int v : poker) {\n",
    "//     System.out.println(v);\n",
    "// }\n"
   ]
  },
  {
   "cell_type": "code",
   "execution_count": 33,
   "metadata": {},
   "outputs": [
    {
     "name": "stdout",
     "output_type": "stream",
     "text": [
      "ms: 224\n",
      "1\n",
      "38\n",
      "32\n",
      "46\n",
      "13\n",
      "14\n",
      "7\n",
      "26\n",
      "6\n",
      "19\n",
      "31\n",
      "18\n",
      "47\n",
      "50\n",
      "17\n",
      "34\n",
      "36\n",
      "12\n",
      "41\n",
      "40\n",
      "30\n",
      "51\n",
      "49\n",
      "42\n",
      "24\n",
      "44\n",
      "4\n",
      "22\n",
      "20\n",
      "43\n",
      "28\n",
      "23\n",
      "25\n",
      "21\n",
      "48\n",
      "3\n",
      "11\n",
      "5\n",
      "45\n",
      "8\n",
      "29\n",
      "35\n",
      "37\n",
      "10\n",
      "39\n",
      "15\n",
      "27\n",
      "16\n",
      "33\n",
      "0\n",
      "2\n",
      "9\n",
      "length: 52\n"
     ]
    }
   ],
   "source": [
    "/* do-while loop，進入loop後一定會做，do 至少做一次，做到 while，若條件成立\n",
    "，do重做；若不成立時，再脫離掉整個 do-while loop */\n",
    "/* for-loop 有可能一次都無法進入loop */\n",
    "long start = System.currentTimeMillis();\n",
    "int NUMS = 52;\n",
    "int[] poker = new int[NUMS];\n",
    "boolean isRepeat;\n",
    "int tmp;\n",
    "\n",
    "for (int i = 0; i < poker.length; i++) {\n",
    "    do {\n",
    "        tmp = (int)(Math.random()*NUMS);   // range:   0 <= random() <= 51\n",
    "        // 檢查機制\n",
    "        isRepeat = false;\n",
    "        for (int j = 0; j < i; j++) {\n",
    "            if(tmp == poker[j]) {\n",
    "                isRepeat = true;\n",
    "                break;\n",
    "            }\n",
    "        }\n",
    "    } while(isRepeat);\n",
    "    \n",
    "    poker[i] = tmp;\n",
    "}\n",
    "\n",
    "System.out.println(\"ms: \" + (System.currentTimeMillis() - start));\n",
    "\n",
    "// for-each test\n",
    "for(int v : poker) {\n",
    "    System.out.println(v);\n",
    "}\n",
    "\n",
    "System.out.println(\"length: \" + poker.length);"
   ]
  },
  {
   "cell_type": "code",
   "execution_count": null,
   "metadata": {},
   "outputs": [],
   "source": [
    "//真正的洗牌，做交換 exchange sort -> 洗牌演算法 \n",
    "// 先混合再分離\n"
   ]
  },
  {
   "cell_type": "code",
   "execution_count": 28,
   "metadata": {},
   "outputs": [
    {
     "name": "stdout",
     "output_type": "stream",
     "text": [
      "5050\n"
     ]
    }
   ],
   "source": [
    "// while-loop\n",
    "// 無窮迴圈 -> server 應用，提供服務，讓對方疲於奔命 -> 癱瘓對方系統\n",
    "/* below prensentation is same as while-loop\n",
    "while (a<=10) {};\n",
    "for (;a<=10;) {};\n",
    "*/\n",
    "\n",
    "// 1 + 2 + 3 + ... + 100 = ?\n",
    "//進入先判斷 再做 { } 內資料\n",
    "    int N = 100;\n",
    "    int START = 1, SUM = 0;\n",
    "    while (START <= N) { \n",
    "        SUM = SUM + START++;\n",
    "        //SUM += START++;\n",
    "    }\n",
    "    System.out.println(SUM);"
   ]
  },
  {
   "cell_type": "code",
   "execution_count": 32,
   "metadata": {},
   "outputs": [
    {
     "name": "stdout",
     "output_type": "stream",
     "text": [
      "32\n",
      "10\n",
      "17\n",
      "20\n",
      "8\n",
      "0\n",
      "34\n",
      "16\n",
      "36\n",
      "21\n",
      "13\n",
      "33\n",
      "6\n",
      "45\n",
      "23\n",
      "29\n",
      "31\n",
      "24\n",
      "26\n",
      "2\n",
      "37\n",
      "7\n",
      "46\n",
      "30\n",
      "42\n",
      "3\n",
      "50\n",
      "22\n",
      "51\n",
      "14\n",
      "39\n",
      "25\n",
      "28\n",
      "49\n",
      "41\n",
      "4\n",
      "27\n",
      "12\n",
      "5\n",
      "48\n",
      "38\n",
      "19\n",
      "18\n",
      "1\n",
      "44\n",
      "40\n",
      "9\n",
      "35\n",
      "43\n",
      "15\n",
      "47\n",
      "11\n",
      "total card: 52"
     ]
    },
    {
     "data": {
      "text/plain": [
       "java.io.PrintStream@7d2fc238"
      ]
     },
     "execution_count": 32,
     "metadata": {},
     "output_type": "execute_result"
    }
   ],
   "source": [
    "       final int START = 1;\n",
    "        final int NUM = 52;\n",
    "        int[] poker = new int[NUM];    \t\t\t\t\t\t\t// give space for #52 cards, not all same color in array\n",
    "\n",
    "        for (int i = 1; i < NUM; i++) {\n",
    "            poker[i] = i;              \t\t\t\t\t\t\t// poker[0] = 0, poker[1] = 1, ... poker[51] = 51\n",
    "        }\n",
    "\n",
    "        // wash\n",
    "        for (int i = (NUM - 1); i >= START; i--) {    \t\t\t// 排列整齊之後，最後(右)2個先交換\n",
    "            int rand = (int)(java.lang.Math.random()*(i+1));    // beginning from zero\n",
    "            int tmp = poker[rand];  \t\t\t\t\t\t\t// integer = integer\n",
    "            poker[rand] = poker[i];\n",
    "            poker[i] = tmp;\n",
    "        }\n",
    "\n",
    "        // for-each\n",
    "        for(int v: poker) {\n",
    "            System.out.println(v);\n",
    "        }\n",
    "        \n",
    "        System.out.printf(\"total card: \" + poker.length);"
   ]
  },
  {
   "cell_type": "code",
   "execution_count": null,
   "metadata": {},
   "outputs": [],
   "source": []
  }
 ],
 "metadata": {
  "kernelspec": {
   "display_name": "Java",
   "language": "java",
   "name": "java"
  },
  "language_info": {
   "codemirror_mode": "java",
   "file_extension": ".jshell",
   "mimetype": "text/x-java-source",
   "name": "Java",
   "pygments_lexer": "java",
   "version": "17.0.2+8-LTS-86"
  }
 },
 "nbformat": 4,
 "nbformat_minor": 4
}
