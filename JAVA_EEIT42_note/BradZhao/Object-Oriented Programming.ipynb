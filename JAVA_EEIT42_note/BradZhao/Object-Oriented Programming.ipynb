{
 "cells": [
  {
   "cell_type": "code",
   "execution_count": 2,
   "metadata": {},
   "outputs": [],
   "source": [
    "// \" \" => 也是OOP\n",
    "/*\n",
    "www(主機名稱).iii.org.tw\n",
    "iii.org.tw.(root) -> 網域名稱，目前 A-M 台，total: #13\n",
    "*/"
   ]
  },
  {
   "cell_type": "code",
   "execution_count": 3,
   "metadata": {},
   "outputs": [],
   "source": [
    "/*3* 設計類別 Class \n",
    " * Class => 物件實體\n",
    " * 屬性field：hight, weight, sex, age\n",
    " * 方法method：你我都一樣\n",
    " * Structure Tree: ref: JAVA api\n",
    "     Paject\n",
    "         ｜---- Package\n",
    "                 |---------- Class \n",
    " * 很多屬性(field看不到(private)=> 存取修飾字)是要依靠 method(外部進來) 來改變屬性； 如何減肥\n",
    "     屬性才是物件的重點，因為方法都一樣\n",
    " * protected 繼承sub class => OK!, package 也可以\n",
    " * field 寫在前， method 寫在後\n",
    " * Constructor => 非 產生物件實體，而是用 new 來產生\n",
    " * Java 是 單一繼承(inherited) 只有 直系血親有關係，旁系都無關\n",
    " * java.lang.Object => Object 最大老祖宗，無任何屬性\n",
    " * Object() => 無傳參數建構式\n",
    " * public boolean equals(Object obj) => ex. if(a==0)\n",
    " * Object vs. Object => 比較兩兩記憶體位置\n",
    " * equals 方法可以被 override （記憶體位置） \n",
    " * toString()\n",
    " * hashCode() ex. 0比0 不一定一樣，再交給 equals() 去比較\n",
    " * toString產生物件實體後，原來的內容不會被改變；只可能變更物件而已，變數去改變？？？\n",
    " * Exception 分兩類：Runtime Exception, 非 Runtime Exception，如下：\n",
    "     RuntimeException\n",
    "             |_________checked Exception 預先檢查、必須檢查的 Exception\n",
    " * Class FileReader 只傳文字檔 ex. ftp 伺服器傳輸，default=> binary, 若是已知是 text, 才會改預設變成傳ASCII\n",
    " * Constructor 建構式 沒有在繼承的觀念\n",
    " * InputStream 可以讀所有檔案 => 本身串流的基本單位：byte\n",
    "*/"
   ]
  },
  {
   "cell_type": "code",
   "execution_count": 5,
   "metadata": {},
   "outputs": [],
   "source": [
    "public class MyCalcV1 {\n",
    "    private int a, b;\n",
    "    public MyCalcV1() {\n",
    "        a = b = 0;\n",
    "    }\n",
    "\n",
    "    public MyCalcV1(int a, int b) {\n",
    "        this.a = a; // \"super.\" above \"this.\" ； 等號後面的那個值會找最接近的a\n",
    "//    public MyCalcV1(int aa, int bb) {\n",
    "//        aa = a;\n",
    "\n",
    "    }\n",
    "}"
   ]
  },
  {
   "cell_type": "code",
   "execution_count": null,
   "metadata": {},
   "outputs": [],
   "source": [
    "// Test01\n",
    "package tw.chloelu.java_OOP;\n",
    "\n",
    "// public class Test01 (extends Object) { => 沒寫時，先天繼承 extends Object\n",
    "public class Test01 extends Object {\n",
    "    public Test01() {\n",
    "        System.out.println(\"Test01() is here\");\n",
    "    }\n",
    "\n",
    "}"
   ]
  },
  {
   "cell_type": "code",
   "execution_count": 7,
   "metadata": {},
   "outputs": [
    {
     "ename": "CompilationException",
     "evalue": "",
     "output_type": "error",
     "traceback": [
      "\u001b[1m\u001b[30m|   \u001b[1m\u001b[30m\u001b[0m\u001b[1m\u001b[30m\u001b[41m\u001b[0m\u001b[1m\u001b[30mpackage tw.chloelu.java_OOP;\u001b[0m",
      "\u001b[1m\u001b[31millegal start of expression\u001b[0m",
      ""
     ]
    }
   ],
   "source": [
    "// Test02\n",
    "package tw.chloelu.java_OOP;\n",
    "\n",
    "public class Test02 extends Test01 {\n",
    "\n",
    "//  // Constructor\n",
    "//  public Test02() {\n",
    "//      System.out.println(\"Test02\");\n",
    "// }\n",
    "    \n",
    "    public Test02(int a) {  \n",
    "        // super();\n",
    "        System.out.println(\"Test02 int a\");\n",
    "    }\n",
    "\n",
    "}"
   ]
  },
  {
   "cell_type": "code",
   "execution_count": null,
   "metadata": {},
   "outputs": [],
   "source": [
    "// Test03\n",
    "ackage tw.chloelu.java_OOP;\n",
    "\n",
    "public class Test03 extends Test02{\n",
    "    //Constructor\n",
    "    public Test03() {\n",
    "        //super(); // 隱含在內，為了確保你要做，你要做 construtor,你的祖宗8代都要先做constructor\n",
    "        // super() 呼叫parents 的建構式\n",
    "        super(1); // 另外指定，// 若有寫建構式,就需尊重設計者\n",
    "        System.out.println(\"Test03\");\n",
    "    }\n",
    "}"
   ]
  },
  {
   "cell_type": "code",
   "execution_count": null,
   "metadata": {},
   "outputs": [],
   "source": [
    "// Test03-2\n",
    "package tw.chloelu.java_OOP;\n",
    "\n",
    "public class Test03 extends Test02{\n",
    "    //Constructor\n",
    "    public Test03() {\n",
    "        //super(); // 隱含在內，為了確保你要做，你要做 construtor,你的祖宗8代都要先做constructor\n",
    "        // super() 呼叫parents 的建構式\n",
    "        super(1); // 另外指定 value，若有寫建構式,就需尊重設計者\n",
    "        System.out.println(\"Test03\");\n",
    "    }\n",
    "    \n",
    "    public Test03(int a) {\n",
    "        this(); // 是否呼叫父類別？\n",
    "    }\n",
    "\n",
    "    public Test03(double b) {\n",
    "        this(\"bb\");\n",
    "    }\n",
    "\n",
    "    public Test03(String c) {\n",
    "        this(2.0);\n",
    "    }\n",
    "}"
   ]
  },
  {
   "cell_type": "code",
   "execution_count": 8,
   "metadata": {},
   "outputs": [
    {
     "ename": "CompilationException",
     "evalue": "",
     "output_type": "error",
     "traceback": [
      "\u001b[1m\u001b[30m|   \u001b[1m\u001b[30mimport \u001b[0m\u001b[1m\u001b[30m\u001b[41mtw.chloelu.java_OOP.Test01\u001b[0m\u001b[1m\u001b[30m;\u001b[0m",
      "\u001b[1m\u001b[31mpackage tw.chloelu.java_OOP does not exist\u001b[0m",
      ""
     ]
    }
   ],
   "source": [
    "// chloe38\n",
    "import tw.chloelu.java_OOP.Test01;\n",
    "import tw.chloelu.java_OOP.Test02;\n",
    "import tw.chloelu.java_OOP.Test03;\n",
    "\n",
    "public class chloe38 {   /* 編譯後，任何一個類別一定有一個以上的 constructor, 若是無傳參數建構式，會去讀取父建構式，確保有一個以上的constructor*/\n",
    "\n",
    "\n",
    "    // Constructor\n",
    "    public static void main(String[] args) {\n",
    "        Test01 test01 = new Test01();\n",
    "        System.out.println(\"---\");\n",
    "        Test02 test02 = new Test02();\n",
    "        System.out.println(\"---\");\n",
    "        Test03 test03 = new Test03();\n",
    "    }\n",
    "\n",
    "}"
   ]
  },
  {
   "cell_type": "code",
   "execution_count": 22,
   "metadata": {},
   "outputs": [],
   "source": [
    "// chloe29 extends Object\n"
   ]
  },
  {
   "cell_type": "code",
   "execution_count": null,
   "metadata": {},
   "outputs": [],
   "source": [
    "// Bike.java\n"
   ]
  },
  {
   "cell_type": "code",
   "execution_count": 10,
   "metadata": {},
   "outputs": [],
   "source": [
    "/*\n",
    "                who can access to?(誰看得到)\n",
    "   public    => 全世界\n",
    "   protected => 相同package, 為了繼承的子類別所開放的\n",
    "   沒有      => 相同package\n",
    "   private   => 本類別\n",
    "*/"
   ]
  },
  {
   "cell_type": "code",
   "execution_count": 11,
   "metadata": {},
   "outputs": [
    {
     "ename": "CompilationException",
     "evalue": "",
     "output_type": "error",
     "traceback": [
      "\u001b[1m\u001b[30m|   \u001b[1m\u001b[30m        \u001b[0m\u001b[1m\u001b[30m\u001b[41mm2\u001b[0m\u001b[1m\u001b[30m();\u001b[0m",
      "\u001b[1m\u001b[31mnon-static method m2() cannot be referenced from a static context\u001b[0m",
      ""
     ]
    }
   ],
   "source": [
    "public class chloe32 { // 腳踏車\n",
    "    public static void main(String[] args) { /* static: 靜態配置記憶體，{}內所實作的內容會與 \n",
    "        所在的class chloe32所產生出來的物件不相關 => 此處{}內所撰寫的程式是可以獨立執行的 */\n",
    "        String id = \"A123456789\";\n",
    "        m1();\n",
    "        m2(); // 因為 m2() 是在class chloe32的物件所擁有的方法\n",
    "    }\n",
    "    \n",
    "    public static void m1() {\n",
    "        System.out.println(\"static:m1()\");\n",
    "    }\n",
    "    \n",
    "    public void m2() { // 物件方法：要有物件才能執行的方法 e.x. 加速度 => 要做出腳踏車才有加速度，沒有腳踏車 就無法做加速度\n",
    "        System.out.println(\"static:m2()\");\n",
    "    }\n",
    "}"
   ]
  },
  {
   "cell_type": "code",
   "execution_count": null,
   "metadata": {},
   "outputs": [],
   "source": [
    "public class Scooter extends Bike {\n",
    "    private int gear;\n",
    "    public int getGear() {\n",
    "        return gear;\n",
    "    }\n",
    "    public void setGear(int gear) {\n",
    "        this.gear = gear;  // this: 本類別所產生的物件 => 呼叫本類別的其他建構式，使用 this!\n",
    "    }\n",
    "}\n",
    "\n",
    "\n",
    "\n",
    "// 等於入下： 改名字解決，省了 this\n",
    "public class Scooter extends Bike {\n",
    "    private int gear;\n",
    "    public int getGear() {\n",
    "        return gear;\n",
    "    }\n",
    "    public void setGear(int g) {\n",
    "        gear = g;  // this: 本類別所產生的物件，此處的 gear => (private int gear; 的 gear)\n",
    "    }\n",
    "}"
   ]
  },
  {
   "cell_type": "code",
   "execution_count": 16,
   "metadata": {},
   "outputs": [
    {
     "ename": "CompilationException",
     "evalue": "",
     "output_type": "error",
     "traceback": [
      "\u001b[1m\u001b[30m|   \u001b[1m\u001b[30m\t\t\u001b[0m\u001b[1m\u001b[30m\u001b[41mtest1()\u001b[0m\u001b[1m\u001b[30m;\u001b[0m",
      "\u001b[1m\u001b[31munreported exception javax.xml.datatype.DatatypeConfigurationException; must be caught or declared to be thrown\u001b[0m",
      ""
     ]
    }
   ],
   "source": [
    "import javax.management.RuntimeErrorException;\n",
    "import javax.xml.datatype.DatatypeConfigurationException;\n",
    "\n",
    "public class chloe51 {\n",
    "    public static void main(String[] args) {\n",
    "        test1();\n",
    "        test2();\n",
    "\n",
    "    }\n",
    "\n",
    "    static void test1() throws DatatypeConfigurationException{ // 事先做檢查，事先告知會有拋出exception, 可不只一個\n",
    "        throw new DatatypeConfigurationException(); // 此處 throw => verb.\n",
    "    }\n",
    "\n",
    "    static void test2() throws RuntimeException {\n",
    "        throw new RuntimeException();\n",
    "    }\n",
    "}"
   ]
  },
  {
   "cell_type": "code",
   "execution_count": 28,
   "metadata": {},
   "outputs": [
    {
     "name": "stdout",
     "output_type": "stream",
     "text": [
      "true\n",
      "false\n"
     ]
    }
   ],
   "source": [
    "String s1 = \"Brad\";\n",
    "String s2 = \"Brad\";\n",
    "System.out.println(s1 == s2);\n",
    "\n",
    "String s3 = new String(\"Brad\");\n",
    "String s4 = new String(\"Brad\");\n",
    "System.out.println(s3 == s4);"
   ]
  },
  {
   "cell_type": "code",
   "execution_count": 29,
   "metadata": {},
   "outputs": [
    {
     "name": "stdout",
     "output_type": "stream",
     "text": [
      "false\n",
      "true\n"
     ]
    }
   ],
   "source": [
    "String s1 = \"Brad\";\n",
    "String s2 = \"Apple\";\n",
    "System.out.println(s1 == s2);\n",
    "\n",
    "String s3 = new String(\"Brad\");\n",
    "String s4 = new String(\"Brad\");\n",
    "System.out.println(s3.equals(s4));\n",
    "\n",
    "/*\n",
    "若只想比我的String物件的內容是否相同呢？別擔心，Java早就設計好了，String的類別透過Override的方式 => String(\"Brad\")，\n",
    "改寫Java.lang.Object的equals方法，讓你可以去比對字串的內容。\n",
    "*/"
   ]
  },
  {
   "cell_type": "code",
   "execution_count": 30,
   "metadata": {},
   "outputs": [
    {
     "name": "stdout",
     "output_type": "stream",
     "text": [
      "false\n",
      "false\n"
     ]
    }
   ],
   "source": [
    "Object obj1 = new Object();\n",
    "Object obj2 = new Object();\n",
    "System.out.println(obj1 == obj2);\n",
    "System.out.println(obj1.equals(obj2));\n",
    "\n",
    "/*\n",
    "你使用的類別並沒有去override本來Object的equals方法的內容 => Object()的內部是空的，所以在沒有複寫的情況下，他就與 == 是相同的用法。\n",
    "*/"
   ]
  },
  {
   "cell_type": "code",
   "execution_count": null,
   "metadata": {},
   "outputs": [],
   "source": [
    "public static createTWId(String urId) {\n",
    "    // 加了static 且 create TWId 的用意: 為的是 return 回 TWId\n",
    "}"
   ]
  },
  {
   "cell_type": "code",
   "execution_count": 34,
   "metadata": {},
   "outputs": [],
   "source": [
    "// java.io Stream => 串流，似水龍頭，不是一口氣一次流進來；但是有些開放軟體可以\n",
    "\n",
    "/* Class OutputStream & Class InputStream => 最源頭的類別 \n",
    "        => 都屬於 public abstract class => abstract 抽象類別 無法直接建構出物件實體 => 即使有做出來 空無一物 {} 框起來而已 \n",
    " * read() 一次讀一個byte, 慢慢讀進來 => 可以做得很細，也可包裝好一次給你 => 彈性大\n",
    " * \n",
    " \n",
    "\n",
    "\n",
    "*/\n",
    "//"
   ]
  },
  {
   "cell_type": "code",
   "execution_count": null,
   "metadata": {},
   "outputs": [],
   "source": [
    "/* 對外宣告(稱) 我用什麼看他 我想看裡面是啥 你宣稱你已經會了，但缺少perform出來\n",
    " * 實作(implement)骨子裡是什麼就是什麼\n",
    "*/"
   ]
  }
 ],
 "metadata": {
  "kernelspec": {
   "display_name": "Java",
   "language": "java",
   "name": "java"
  },
  "language_info": {
   "codemirror_mode": "java",
   "file_extension": ".jshell",
   "mimetype": "text/x-java-source",
   "name": "Java",
   "pygments_lexer": "java",
   "version": "17.0.2+8-LTS-86"
  }
 },
 "nbformat": 4,
 "nbformat_minor": 4
}
